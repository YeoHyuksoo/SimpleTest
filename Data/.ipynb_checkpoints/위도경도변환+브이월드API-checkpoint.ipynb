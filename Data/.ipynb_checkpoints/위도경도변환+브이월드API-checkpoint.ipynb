{
 "cells": [
  {
   "cell_type": "code",
   "execution_count": 59,
   "id": "b113e746-7fed-42e2-a63b-e859fc7edbbf",
   "metadata": {},
   "outputs": [],
   "source": [
    "import pandas as pd"
   ]
  },
  {
   "cell_type": "code",
   "execution_count": 68,
   "id": "264ab2d0-5f62-4eb1-a363-b021019bfd94",
   "metadata": {},
   "outputs": [
    {
     "data": {
      "text/html": [
       "<div>\n",
       "<style scoped>\n",
       "    .dataframe tbody tr th:only-of-type {\n",
       "        vertical-align: middle;\n",
       "    }\n",
       "\n",
       "    .dataframe tbody tr th {\n",
       "        vertical-align: top;\n",
       "    }\n",
       "\n",
       "    .dataframe thead th {\n",
       "        text-align: right;\n",
       "    }\n",
       "</style>\n",
       "<table border=\"1\" class=\"dataframe\">\n",
       "  <thead>\n",
       "    <tr style=\"text-align: right;\">\n",
       "      <th></th>\n",
       "      <th>상호명</th>\n",
       "      <th>주소</th>\n",
       "    </tr>\n",
       "  </thead>\n",
       "  <tbody>\n",
       "    <tr>\n",
       "      <th>0</th>\n",
       "      <td>경상버스(주)</td>\n",
       "      <td>대구광역시 서구 이현동 45-52</td>\n",
       "    </tr>\n",
       "    <tr>\n",
       "      <th>1</th>\n",
       "      <td>우창여객(주)</td>\n",
       "      <td>대구광역시 수성구 달구벌대로 2699</td>\n",
       "    </tr>\n",
       "    <tr>\n",
       "      <th>2</th>\n",
       "      <td>(주)세진교통</td>\n",
       "      <td>대구광역시 수성구 만촌동 794-1</td>\n",
       "    </tr>\n",
       "    <tr>\n",
       "      <th>3</th>\n",
       "      <td>대일버스(주)</td>\n",
       "      <td>대구광역시 수성구 만촌동 794-1</td>\n",
       "    </tr>\n",
       "    <tr>\n",
       "      <th>4</th>\n",
       "      <td>신진자동차(주)</td>\n",
       "      <td>대구광역시 수성구 범물동 1290</td>\n",
       "    </tr>\n",
       "    <tr>\n",
       "      <th>5</th>\n",
       "      <td>삼천리버스(주)</td>\n",
       "      <td>대구광역시 수성구 신매동 79-2</td>\n",
       "    </tr>\n",
       "    <tr>\n",
       "      <th>6</th>\n",
       "      <td>한일운수(주)</td>\n",
       "      <td>대구광역시 수성구 화랑로 222</td>\n",
       "    </tr>\n",
       "  </tbody>\n",
       "</table>\n",
       "</div>"
      ],
      "text/plain": [
       "        상호명                    주소\n",
       "0   경상버스(주)    대구광역시 서구 이현동 45-52\n",
       "1   우창여객(주)  대구광역시 수성구 달구벌대로 2699\n",
       "2   (주)세진교통   대구광역시 수성구 만촌동 794-1\n",
       "3   대일버스(주)   대구광역시 수성구 만촌동 794-1\n",
       "4  신진자동차(주)    대구광역시 수성구 범물동 1290\n",
       "5  삼천리버스(주)    대구광역시 수성구 신매동 79-2\n",
       "6   한일운수(주)     대구광역시 수성구 화랑로 222"
      ]
     },
     "execution_count": 68,
     "metadata": {},
     "output_type": "execute_result"
    }
   ],
   "source": [
    "data = pd.read_csv(\"버스차고지.csv\")\n",
    "\n",
    "data"
   ]
  },
  {
   "cell_type": "code",
   "execution_count": 69,
   "id": "6677b785-4791-4b6d-99aa-eeedff2faf93",
   "metadata": {},
   "outputs": [
    {
     "name": "stdout",
     "output_type": "stream",
     "text": [
      "        상호명                    주소\n",
      "0   경상버스(주)    대구광역시 서구 이현동 45-52\n",
      "1   우창여객(주)  대구광역시 수성구 달구벌대로 2699\n",
      "2   (주)세진교통   대구광역시 수성구 만촌동 794-1\n",
      "3   대일버스(주)   대구광역시 수성구 만촌동 794-1\n",
      "4  신진자동차(주)    대구광역시 수성구 범물동 1290\n",
      "5  삼천리버스(주)    대구광역시 수성구 신매동 79-2\n",
      "6   한일운수(주)     대구광역시 수성구 화랑로 222\n"
     ]
    }
   ],
   "source": [
    "# filtered_df = data[data['주소'].isin(['서구', '수성구'])]\n",
    "# filtered_df = data[data['주소'].str.contains(r'\\b수성구\\b', na=False)]\n",
    "# filtered_df = filtered_df + data[data['주소'].str.contains(r'\\b서구\\b', na=False)]\n",
    "# 2. 주소 컬럼에서 마지막에 '('가 있다면 그 뒤를 제거\n",
    "# filtered_df['주소'] = filtered_df['주소'].str.replace(r'\\(.*\\)', '', regex=True)\n",
    "# filtered_df['주소'] = filtered_df['주소'].str.replace(r'\\d+[-]?\\d*\\s.*', '', regex=True)\n",
    "# filtered_df['주소'] = filtered_df['주소'].str.replace(r'(\\d+[-]?\\d*)\\s.*', r'\\1', regex=True)\n",
    "filtered_df = data\n",
    "print(filtered_df)"
   ]
  },
  {
   "cell_type": "code",
   "execution_count": 70,
   "id": "053ebbcb-35e3-4f70-8854-87db0c2be21a",
   "metadata": {},
   "outputs": [],
   "source": [
    "import requests\n",
    "def get_coordinates(address, key):\n",
    "    apiurl = \"https://api.vworld.kr/req/address?\"\n",
    "    params = {\n",
    "        \"service\": \"address\",\n",
    "        \"request\": \"getcoord\",\n",
    "        \"crs\": \"epsg:4326\",\n",
    "        \"address\": address,\n",
    "        \"format\": \"json\",\n",
    "        \"type\": \"road\",\n",
    "        \"key\": key\n",
    "    }\n",
    "    response = requests.get(apiurl, params=params).json()\n",
    "    if response['response']['status'] == 'OK':\n",
    "        point = response['response']['result']['point']\n",
    "        x, y = point['x'], point['y']\n",
    "    else:\n",
    "        x, y = None, None\n",
    "    return x, y\n"
   ]
  },
  {
   "cell_type": "code",
   "execution_count": 71,
   "id": "b0c5e70b-91c9-4f64-82ed-25199374b162",
   "metadata": {},
   "outputs": [],
   "source": [
    "coordinates = filtered_df['주소'].apply(lambda x : get_coordinates(x, \"6547C216-9F9A-3EC4-8069-724F02E9DA6A\"))\n",
    "filtered_df['위도'] = [i[1] for i in coordinates]\n",
    "filtered_df['경도'] = [i[0] for i in coordinates]"
   ]
  },
  {
   "cell_type": "code",
   "execution_count": 72,
   "id": "21cfdab7-8971-4539-acf5-712fcbdafa7d",
   "metadata": {},
   "outputs": [
    {
     "data": {
      "text/html": [
       "<div>\n",
       "<style scoped>\n",
       "    .dataframe tbody tr th:only-of-type {\n",
       "        vertical-align: middle;\n",
       "    }\n",
       "\n",
       "    .dataframe tbody tr th {\n",
       "        vertical-align: top;\n",
       "    }\n",
       "\n",
       "    .dataframe thead th {\n",
       "        text-align: right;\n",
       "    }\n",
       "</style>\n",
       "<table border=\"1\" class=\"dataframe\">\n",
       "  <thead>\n",
       "    <tr style=\"text-align: right;\">\n",
       "      <th></th>\n",
       "      <th>상호명</th>\n",
       "      <th>주소</th>\n",
       "      <th>위도</th>\n",
       "      <th>경도</th>\n",
       "    </tr>\n",
       "  </thead>\n",
       "  <tbody>\n",
       "    <tr>\n",
       "      <th>0</th>\n",
       "      <td>경상버스(주)</td>\n",
       "      <td>대구광역시 서구 이현동 45-52</td>\n",
       "      <td>None</td>\n",
       "      <td>None</td>\n",
       "    </tr>\n",
       "    <tr>\n",
       "      <th>1</th>\n",
       "      <td>우창여객(주)</td>\n",
       "      <td>대구광역시 수성구 달구벌대로 2699</td>\n",
       "      <td>35.854099314</td>\n",
       "      <td>128.656512204</td>\n",
       "    </tr>\n",
       "    <tr>\n",
       "      <th>2</th>\n",
       "      <td>(주)세진교통</td>\n",
       "      <td>대구광역시 수성구 만촌동 794-1</td>\n",
       "      <td>None</td>\n",
       "      <td>None</td>\n",
       "    </tr>\n",
       "    <tr>\n",
       "      <th>3</th>\n",
       "      <td>대일버스(주)</td>\n",
       "      <td>대구광역시 수성구 만촌동 794-1</td>\n",
       "      <td>None</td>\n",
       "      <td>None</td>\n",
       "    </tr>\n",
       "    <tr>\n",
       "      <th>4</th>\n",
       "      <td>신진자동차(주)</td>\n",
       "      <td>대구광역시 수성구 범물동 1290</td>\n",
       "      <td>None</td>\n",
       "      <td>None</td>\n",
       "    </tr>\n",
       "    <tr>\n",
       "      <th>5</th>\n",
       "      <td>삼천리버스(주)</td>\n",
       "      <td>대구광역시 수성구 신매동 79-2</td>\n",
       "      <td>None</td>\n",
       "      <td>None</td>\n",
       "    </tr>\n",
       "    <tr>\n",
       "      <th>6</th>\n",
       "      <td>한일운수(주)</td>\n",
       "      <td>대구광역시 수성구 화랑로 222</td>\n",
       "      <td>35.877829536</td>\n",
       "      <td>128.649405797</td>\n",
       "    </tr>\n",
       "  </tbody>\n",
       "</table>\n",
       "</div>"
      ],
      "text/plain": [
       "        상호명                    주소            위도             경도\n",
       "0   경상버스(주)    대구광역시 서구 이현동 45-52          None           None\n",
       "1   우창여객(주)  대구광역시 수성구 달구벌대로 2699  35.854099314  128.656512204\n",
       "2   (주)세진교통   대구광역시 수성구 만촌동 794-1          None           None\n",
       "3   대일버스(주)   대구광역시 수성구 만촌동 794-1          None           None\n",
       "4  신진자동차(주)    대구광역시 수성구 범물동 1290          None           None\n",
       "5  삼천리버스(주)    대구광역시 수성구 신매동 79-2          None           None\n",
       "6   한일운수(주)     대구광역시 수성구 화랑로 222  35.877829536  128.649405797"
      ]
     },
     "execution_count": 72,
     "metadata": {},
     "output_type": "execute_result"
    }
   ],
   "source": [
    "# filtered_df = filtered_df.drop('Column1', axis=1)\n",
    "filtered_df"
   ]
  },
  {
   "cell_type": "code",
   "execution_count": 58,
   "id": "a3bde5dd-27cd-4ed5-89da-93d64c0a075b",
   "metadata": {},
   "outputs": [],
   "source": [
    "filtered_df.to_csv(\"주유소LPG/서구주유소.csv\", index = False, encoding = 'utf-8-sig')"
   ]
  },
  {
   "cell_type": "code",
   "execution_count": null,
   "id": "bafd0972-f139-4782-8dc1-1fe77fd5f3e2",
   "metadata": {},
   "outputs": [],
   "source": []
  }
 ],
 "metadata": {
  "kernelspec": {
   "display_name": "Python 3 (ipykernel)",
   "language": "python",
   "name": "python3"
  },
  "language_info": {
   "codemirror_mode": {
    "name": "ipython",
    "version": 3
   },
   "file_extension": ".py",
   "mimetype": "text/x-python",
   "name": "python",
   "nbconvert_exporter": "python",
   "pygments_lexer": "ipython3",
   "version": "3.10.11"
  }
 },
 "nbformat": 4,
 "nbformat_minor": 5
}
