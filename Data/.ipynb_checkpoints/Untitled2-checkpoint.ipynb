{
 "cells": [
  {
   "cell_type": "code",
   "execution_count": 1,
   "metadata": {},
   "outputs": [],
   "source": [
    "#최적의 구 선정"
   ]
  },
  {
   "cell_type": "code",
   "execution_count": 2,
   "metadata": {},
   "outputs": [],
   "source": [
    "#kmeans 클러스터링에 들어갈 변수 선정"
   ]
  },
  {
   "cell_type": "code",
   "execution_count": 3,
   "metadata": {},
   "outputs": [],
   "source": [
    "#주유소, lpg충전소 접근성 변수"
   ]
  },
  {
   "cell_type": "code",
   "execution_count": null,
   "metadata": {},
   "outputs": [],
   "source": [
    "#총 교통량과 주유소 접근성은 -0.6 이었으나 \n",
    "# 실제로 시각화하니 군위군을 뺀 나머지 구는 양의 상관관계를 띠고있음 = \n",
    "# 현재 군위군은 교통량이 현저히 적으나 주유소 접근성이 매우 안 좋은 상태\n",
    "\n",
    "# 총교통량과 주유소 접근성 -0.6 -> 군위군 제외하면 ???\n",
    " "
   ]
  },
  {
   "cell_type": "code",
   "execution_count": null,
   "metadata": {},
   "outputs": [],
   "source": [
    "# LPG 충전소 개수와 주유소 개수가 0.9로 높은 양의 상관관계를 띠고 있으므로 \n",
    "\n",
    "복합충전소로 갈 수도 있고, 기존 lpg충전소, 주유소들이 자리를 잡을 때 고려했던 조건들은 수소차 충전소에도 적용될 것이다.\n",
    "같은 역할을 맡고 있기 때문에\n",
    "\n",
    "기존 \n",
    "수소차 대수 - 구별 시민들의 수소차에 대한 의식과 수요를 뒷받침하는 변수임\n",
    "\n",
    "인구 밀집도: 인구가 많거나 인구 밀도가 높은 지역일수록 충전소 이용 수요가 높아질 가능성이 큽니다. \n",
    "대구에서 인구 밀집도가 높은 구는 중구, 수성구, 달서구 등이므로 이를 우선 고려할 수 있습니다.\n",
    "\n",
    "인구밀도와 상업수는 주유소, lpg충전소 개수합이 0인 것과 그렇지 않은 것들과 비교했을 때, 확연한 차이를 보인다."
   ]
  },
  {
   "cell_type": "code",
   "execution_count": 163,
   "metadata": {},
   "outputs": [],
   "source": [
    "import pandas as pd\n",
    "\n",
    "import matplotlib.pyplot as plt\n",
    "import matplotlib.font_manager as fm\n",
    "\n",
    "plt.rcParams['axes.unicode_minus'] = False\n",
    "plt.rc('font', family='Malgun Gothic')"
   ]
  },
  {
   "cell_type": "code",
   "execution_count": 172,
   "metadata": {},
   "outputs": [],
   "source": [
    "df = pd.read_csv(\"구별데이터최종.csv\")"
   ]
  },
  {
   "cell_type": "code",
   "execution_count": 173,
   "metadata": {},
   "outputs": [
    {
     "data": {
      "text/html": [
       "<div>\n",
       "<style scoped>\n",
       "    .dataframe tbody tr th:only-of-type {\n",
       "        vertical-align: middle;\n",
       "    }\n",
       "\n",
       "    .dataframe tbody tr th {\n",
       "        vertical-align: top;\n",
       "    }\n",
       "\n",
       "    .dataframe thead th {\n",
       "        text-align: right;\n",
       "    }\n",
       "</style>\n",
       "<table border=\"1\" class=\"dataframe\">\n",
       "  <thead>\n",
       "    <tr style=\"text-align: right;\">\n",
       "      <th></th>\n",
       "      <th>수소차대수</th>\n",
       "      <th>총교통량</th>\n",
       "      <th>인구밀도</th>\n",
       "      <th>주유소lpg 접근성</th>\n",
       "      <th>상업수</th>\n",
       "    </tr>\n",
       "  </thead>\n",
       "  <tbody>\n",
       "    <tr>\n",
       "      <th>0</th>\n",
       "      <td>0.000000</td>\n",
       "      <td>0.000000</td>\n",
       "      <td>0.000000</td>\n",
       "      <td>1.000000</td>\n",
       "      <td>0.000000</td>\n",
       "    </tr>\n",
       "    <tr>\n",
       "      <th>1</th>\n",
       "      <td>0.138889</td>\n",
       "      <td>0.516885</td>\n",
       "      <td>0.623398</td>\n",
       "      <td>0.008771</td>\n",
       "      <td>1.000000</td>\n",
       "    </tr>\n",
       "    <tr>\n",
       "      <th>2</th>\n",
       "      <td>1.000000</td>\n",
       "      <td>0.501271</td>\n",
       "      <td>0.574308</td>\n",
       "      <td>0.020374</td>\n",
       "      <td>0.456817</td>\n",
       "    </tr>\n",
       "    <tr>\n",
       "      <th>3</th>\n",
       "      <td>0.511111</td>\n",
       "      <td>0.084841</td>\n",
       "      <td>0.084216</td>\n",
       "      <td>0.087202</td>\n",
       "      <td>0.500636</td>\n",
       "    </tr>\n",
       "    <tr>\n",
       "      <th>4</th>\n",
       "      <td>0.538889</td>\n",
       "      <td>0.549511</td>\n",
       "      <td>0.884215</td>\n",
       "      <td>0.133339</td>\n",
       "      <td>0.116492</td>\n",
       "    </tr>\n",
       "    <tr>\n",
       "      <th>5</th>\n",
       "      <td>0.622222</td>\n",
       "      <td>0.640894</td>\n",
       "      <td>0.160175</td>\n",
       "      <td>0.037607</td>\n",
       "      <td>0.248789</td>\n",
       "    </tr>\n",
       "    <tr>\n",
       "      <th>6</th>\n",
       "      <td>0.188889</td>\n",
       "      <td>1.000000</td>\n",
       "      <td>1.000000</td>\n",
       "      <td>0.000000</td>\n",
       "      <td>0.453357</td>\n",
       "    </tr>\n",
       "    <tr>\n",
       "      <th>7</th>\n",
       "      <td>0.494444</td>\n",
       "      <td>0.528553</td>\n",
       "      <td>0.980731</td>\n",
       "      <td>0.072912</td>\n",
       "      <td>0.339763</td>\n",
       "    </tr>\n",
       "    <tr>\n",
       "      <th>8</th>\n",
       "      <td>0.088889</td>\n",
       "      <td>0.500855</td>\n",
       "      <td>0.708262</td>\n",
       "      <td>0.005892</td>\n",
       "      <td>0.064481</td>\n",
       "    </tr>\n",
       "  </tbody>\n",
       "</table>\n",
       "</div>"
      ],
      "text/plain": [
       "      수소차대수      총교통량      인구밀도  주유소lpg 접근성       상업수\n",
       "0  0.000000  0.000000  0.000000    1.000000  0.000000\n",
       "1  0.138889  0.516885  0.623398    0.008771  1.000000\n",
       "2  1.000000  0.501271  0.574308    0.020374  0.456817\n",
       "3  0.511111  0.084841  0.084216    0.087202  0.500636\n",
       "4  0.538889  0.549511  0.884215    0.133339  0.116492\n",
       "5  0.622222  0.640894  0.160175    0.037607  0.248789\n",
       "6  0.188889  1.000000  1.000000    0.000000  0.453357\n",
       "7  0.494444  0.528553  0.980731    0.072912  0.339763\n",
       "8  0.088889  0.500855  0.708262    0.005892  0.064481"
      ]
     },
     "execution_count": 173,
     "metadata": {},
     "output_type": "execute_result"
    }
   ],
   "source": [
    "from sklearn.preprocessing import MinMaxScaler\n",
    "\n",
    "scaler = MinMaxScaler()\n",
    "df['주유소lpg 접근성'] = df['주유소_최소3개평균'] + df['lpg_최소3개평균']\n",
    "df_scaled = scaler.fit_transform(df[['수소차대수', '총교통량', '인구밀도', '주유소lpg 접근성', '상업수']])\n",
    "df_scaled = pd.DataFrame(df_scaled, columns=['수소차대수', '총교통량', '인구밀도', '주유소lpg 접근성', '상업수'])\n",
    "\n",
    "df_scaled"
   ]
  },
  {
   "cell_type": "code",
   "execution_count": 174,
   "metadata": {},
   "outputs": [
    {
     "data": {
      "text/html": [
       "<div>\n",
       "<style scoped>\n",
       "    .dataframe tbody tr th:only-of-type {\n",
       "        vertical-align: middle;\n",
       "    }\n",
       "\n",
       "    .dataframe tbody tr th {\n",
       "        vertical-align: top;\n",
       "    }\n",
       "\n",
       "    .dataframe thead th {\n",
       "        text-align: right;\n",
       "    }\n",
       "</style>\n",
       "<table border=\"1\" class=\"dataframe\">\n",
       "  <thead>\n",
       "    <tr style=\"text-align: right;\">\n",
       "      <th></th>\n",
       "      <th>수소차대수</th>\n",
       "      <th>총교통량</th>\n",
       "      <th>인구밀도</th>\n",
       "      <th>주유소lpg 접근성</th>\n",
       "      <th>상업수</th>\n",
       "      <th>구</th>\n",
       "    </tr>\n",
       "  </thead>\n",
       "  <tbody>\n",
       "    <tr>\n",
       "      <th>1</th>\n",
       "      <td>0.138889</td>\n",
       "      <td>0.516885</td>\n",
       "      <td>0.623398</td>\n",
       "      <td>0.008771</td>\n",
       "      <td>1.000000</td>\n",
       "      <td>남구</td>\n",
       "    </tr>\n",
       "    <tr>\n",
       "      <th>2</th>\n",
       "      <td>1.000000</td>\n",
       "      <td>0.501271</td>\n",
       "      <td>0.574308</td>\n",
       "      <td>0.020374</td>\n",
       "      <td>0.456817</td>\n",
       "      <td>달서구</td>\n",
       "    </tr>\n",
       "    <tr>\n",
       "      <th>3</th>\n",
       "      <td>0.511111</td>\n",
       "      <td>0.084841</td>\n",
       "      <td>0.084216</td>\n",
       "      <td>0.087202</td>\n",
       "      <td>0.500636</td>\n",
       "      <td>달성군</td>\n",
       "    </tr>\n",
       "    <tr>\n",
       "      <th>4</th>\n",
       "      <td>0.538889</td>\n",
       "      <td>0.549511</td>\n",
       "      <td>0.884215</td>\n",
       "      <td>0.133339</td>\n",
       "      <td>0.116492</td>\n",
       "      <td>동구</td>\n",
       "    </tr>\n",
       "    <tr>\n",
       "      <th>5</th>\n",
       "      <td>0.622222</td>\n",
       "      <td>0.640894</td>\n",
       "      <td>0.160175</td>\n",
       "      <td>0.037607</td>\n",
       "      <td>0.248789</td>\n",
       "      <td>북구</td>\n",
       "    </tr>\n",
       "    <tr>\n",
       "      <th>6</th>\n",
       "      <td>0.188889</td>\n",
       "      <td>1.000000</td>\n",
       "      <td>1.000000</td>\n",
       "      <td>0.000000</td>\n",
       "      <td>0.453357</td>\n",
       "      <td>서구</td>\n",
       "    </tr>\n",
       "    <tr>\n",
       "      <th>7</th>\n",
       "      <td>0.494444</td>\n",
       "      <td>0.528553</td>\n",
       "      <td>0.980731</td>\n",
       "      <td>0.072912</td>\n",
       "      <td>0.339763</td>\n",
       "      <td>수성구</td>\n",
       "    </tr>\n",
       "    <tr>\n",
       "      <th>8</th>\n",
       "      <td>0.088889</td>\n",
       "      <td>0.500855</td>\n",
       "      <td>0.708262</td>\n",
       "      <td>0.005892</td>\n",
       "      <td>0.064481</td>\n",
       "      <td>중구</td>\n",
       "    </tr>\n",
       "  </tbody>\n",
       "</table>\n",
       "</div>"
      ],
      "text/plain": [
       "      수소차대수      총교통량      인구밀도  주유소lpg 접근성       상업수    구\n",
       "1  0.138889  0.516885  0.623398    0.008771  1.000000   남구\n",
       "2  1.000000  0.501271  0.574308    0.020374  0.456817  달서구\n",
       "3  0.511111  0.084841  0.084216    0.087202  0.500636  달성군\n",
       "4  0.538889  0.549511  0.884215    0.133339  0.116492   동구\n",
       "5  0.622222  0.640894  0.160175    0.037607  0.248789   북구\n",
       "6  0.188889  1.000000  1.000000    0.000000  0.453357   서구\n",
       "7  0.494444  0.528553  0.980731    0.072912  0.339763  수성구\n",
       "8  0.088889  0.500855  0.708262    0.005892  0.064481   중구"
      ]
     },
     "execution_count": 174,
     "metadata": {},
     "output_type": "execute_result"
    }
   ],
   "source": [
    "df_scaled = df_scaled.drop(index=0) # 군위군 이상치로 제거\n",
    "\n",
    "df_scaled['구'] = df['구']\n",
    "\n",
    "df_scaled"
   ]
  },
  {
   "cell_type": "code",
   "execution_count": 175,
   "metadata": {},
   "outputs": [
    {
     "name": "stdout",
     "output_type": "stream",
     "text": [
      "[[-0.06734559  0.66102198]\n",
      " [ 0.29303001 -0.25228219]\n",
      " [ 0.66754232  0.17545798]\n",
      " [-0.18817508 -0.32693993]\n",
      " [ 0.38007784 -0.14410759]\n",
      " [-0.60539715  0.09200447]\n",
      " [-0.25623959 -0.1348631 ]\n",
      " [-0.22349277 -0.07029163]]\n"
     ]
    }
   ],
   "source": [
    "from sklearn.cluster import KMeans\n",
    "import matplotlib.pyplot as plt\n",
    "\n",
    "# K-Means 모델 생성\n",
    "kmeans = KMeans(n_clusters=3, random_state=42)\n",
    "df_scaled['Cluster'] = kmeans.fit_predict(df_scaled[['수소차대수', '총교통량', '인구밀도', '주유소lpg 접근성', '상업수']])\n",
    "\n",
    "from sklearn.decomposition import PCA\n",
    "pca = PCA(n_components=2)\n",
    "pca_components = pca.fit_transform(df_scaled[['수소차대수', '총교통량', '인구밀도', '주유소lpg 접근성', '상업수']])\n",
    "\n",
    "df_scaled['PCA1'] = pca_components[:, 0]\n",
    "df_scaled['PCA2'] = pca_components[:, 1]\n",
    "print(pca_components)"
   ]
  },
  {
   "cell_type": "code",
   "execution_count": 176,
   "metadata": {},
   "outputs": [
    {
     "data": {
      "image/png": "[encoded data removed]",
      "text/plain": [
       "<Figure size 720x432 with 1 Axes>"
      ]
     },
     "metadata": {
      "needs_background": "light"
     },
     "output_type": "display_data"
    }
   ],
   "source": [
    "# Plot the clusters with different colors\n",
    "plt.figure(figsize=(10, 6))\n",
    "for cluster in df_scaled['Cluster'].unique():\n",
    "    cluster_data = df_scaled[df_scaled['Cluster'] == cluster]\n",
    "    plt.scatter(cluster_data['PCA1'], cluster_data['PCA2'], label=f'Cluster {cluster}')\n",
    "\n",
    "    for i, row in cluster_data.iterrows():\n",
    "        plt.text(row['PCA1'], row['PCA2'], row['구'], fontsize=9, ha='right', va='bottom')\n",
    "\n",
    "plt.xlabel('PCA Component 1')\n",
    "plt.ylabel('PCA Component 2')\n",
    "plt.title('K-Means Clustering Visualization using PCA')\n",
    "plt.legend()\n",
    "plt.show()"
   ]
  },
  {
   "cell_type": "code",
   "execution_count": 179,
   "metadata": {},
   "outputs": [
    {
     "data": {
      "image/png": "[encoded data removed]",
      "text/plain": [
       "<Figure size 720x432 with 1 Axes>"
      ]
     },
     "metadata": {
      "needs_background": "light"
     },
     "output_type": "display_data"
    }
   ],
   "source": [
    "# Plot the clusters with different colors\n",
    "plt.figure(figsize=(10, 6))\n",
    "for cluster in df_scaled['Cluster'].unique():\n",
    "    cluster_data = df_scaled[df_scaled['Cluster'] == cluster]\n",
    "    plt.scatter(cluster_data['인구밀도'], cluster_data['상업수'], label=f'Cluster {cluster}')\n",
    "\n",
    "    for i, row in cluster_data.iterrows():\n",
    "        plt.text(row['인구밀도'], row['상업수'], row['구'], fontsize=9, ha='right', va='bottom')\n",
    "\n",
    "plt.xlabel('인구밀도')\n",
    "plt.ylabel('상업수')\n",
    "plt.title('K-Means Clustering Visualization using PCA')\n",
    "plt.legend()\n",
    "plt.show()"
   ]
  },
  {
   "cell_type": "code",
   "execution_count": 178,
   "metadata": {},
   "outputs": [
    {
     "data": {
      "text/plain": [
       "array([[ 0.41655948, -0.45398467, -0.78295237,  0.0273732 ,  0.0813168 ],\n",
       "       [-0.56788263, -0.08166689, -0.174107  , -0.06269956,  0.79786926]])"
      ]
     },
     "execution_count": 178,
     "metadata": {},
     "output_type": "execute_result"
    }
   ],
   "source": [
    "pca.components_"
   ]
  },
  {
   "cell_type": "code",
   "execution_count": 181,
   "metadata": {},
   "outputs": [
    {
     "data": {
      "text/plain": [
       "array([0.47208462, 0.27215164])"
      ]
     },
     "execution_count": 181,
     "metadata": {},
     "output_type": "execute_result"
    }
   ],
   "source": [
    "pca.explained_variance_ratio_"
   ]
  },
  {
   "cell_type": "code",
   "execution_count": 180,
   "metadata": {},
   "outputs": [
    {
     "name": "stdout",
     "output_type": "stream",
     "text": [
      "            수소차대수      총교통량      인구밀도  주유소lpg 접근성       상업수\n",
      "Cluster                                                    \n",
      "0        0.138889  0.516885  0.623398    0.008771  1.000000\n",
      "1        0.711111  0.409002  0.272900    0.048394  0.402081\n",
      "2        0.327778  0.644730  0.893302    0.053036  0.243523\n"
     ]
    }
   ],
   "source": [
    "cluster_means = df_scaled[['수소차대수', '총교통량', '인구밀도', '주유소lpg 접근성', '상업수']].groupby(df_scaled['Cluster']).mean()\n",
    "\n",
    "print(cluster_means)"
   ]
  },
  {
   "cell_type": "code",
   "execution_count": 118,
   "metadata": {},
   "outputs": [
    {
     "name": "stdout",
     "output_type": "stream",
     "text": [
      "Collecting yellowbrick\n",
      "  Downloading yellowbrick-1.5-py3-none-any.whl (282 kB)\n",
      "Requirement already satisfied: numpy>=1.16.0 in c:\\users\\asasd\\anaconda3\\lib\\site-packages (from yellowbrick) (1.18.1)\n",
      "Collecting scikit-learn>=1.0.0\n",
      "  Downloading scikit_learn-1.0.2-cp37-cp37m-win_amd64.whl (7.1 MB)\n",
      "Requirement already satisfied: scipy>=1.0.0 in c:\\users\\asasd\\anaconda3\\lib\\site-packages (from yellowbrick) (1.4.1)\n",
      "Requirement already satisfied: matplotlib!=3.0.0,>=2.0.2 in c:\\users\\asasd\\anaconda3\\lib\\site-packages (from yellowbrick) (3.1.3)\n",
      "Requirement already satisfied: cycler>=0.10.0 in c:\\users\\asasd\\anaconda3\\lib\\site-packages (from yellowbrick) (0.10.0)\n",
      "Requirement already satisfied: joblib>=0.11 in c:\\users\\asasd\\anaconda3\\lib\\site-packages (from scikit-learn>=1.0.0->yellowbrick) (0.14.1)\n",
      "Collecting threadpoolctl>=2.0.0\n",
      "  Downloading threadpoolctl-3.1.0-py3-none-any.whl (14 kB)\n",
      "Requirement already satisfied: pyparsing!=2.0.4,!=2.1.2,!=2.1.6,>=2.0.1 in c:\\users\\asasd\\anaconda3\\lib\\site-packages (from matplotlib!=3.0.0,>=2.0.2->yellowbrick) (2.4.6)\n",
      "Requirement already satisfied: python-dateutil>=2.1 in c:\\users\\asasd\\anaconda3\\lib\\site-packages (from matplotlib!=3.0.0,>=2.0.2->yellowbrick) (2.8.1)\n",
      "Requirement already satisfied: kiwisolver>=1.0.1 in c:\\users\\asasd\\anaconda3\\lib\\site-packages (from matplotlib!=3.0.0,>=2.0.2->yellowbrick) (1.1.0)\n",
      "Requirement already satisfied: six in c:\\users\\asasd\\anaconda3\\lib\\site-packages (from cycler>=0.10.0->yellowbrick) (1.14.0)\n",
      "Requirement already satisfied: setuptools in c:\\users\\asasd\\anaconda3\\lib\\site-packages (from kiwisolver>=1.0.1->matplotlib!=3.0.0,>=2.0.2->yellowbrick) (45.2.0.post20200210)\n",
      "Installing collected packages: threadpoolctl, scikit-learn, yellowbrick\n",
      "  Attempting uninstall: scikit-learn\n",
      "    Found existing installation: scikit-learn 0.22.1\n",
      "    Uninstalling scikit-learn-0.22.1:\n",
      "      Successfully uninstalled scikit-learn-0.22.1\n"
     ]
    },
    {
     "name": "stderr",
     "output_type": "stream",
     "text": [
      "ERROR: Could not install packages due to an EnvironmentError: [WinError 5] 액세스가 거부되었습니다: 'c:\\\\users\\\\asasd\\\\anaconda3\\\\lib\\\\site-packages\\\\~klearn\\\\cluster\\\\_dbscan_inner.cp37-win_amd64.pyd'\n",
      "Consider using the `--user` option or check the permissions.\n",
      "\n"
     ]
    },
    {
     "ename": "ModuleNotFoundError",
     "evalue": "No module named 'yellowbrick'",
     "output_type": "error",
     "traceback": [
      "\u001b[1;31m---------------------------------------------------------------------------\u001b[0m",
      "\u001b[1;31mModuleNotFoundError\u001b[0m                       Traceback (most recent call last)",
      "\u001b[1;32m<ipython-input-118-1b679e1e5ba7>\u001b[0m in \u001b[0;36m<module>\u001b[1;34m\u001b[0m\n\u001b[0;32m      1\u001b[0m \u001b[0mget_ipython\u001b[0m\u001b[1;33m(\u001b[0m\u001b[1;33m)\u001b[0m\u001b[1;33m.\u001b[0m\u001b[0msystem\u001b[0m\u001b[1;33m(\u001b[0m\u001b[1;34m'pip install yellowbrick'\u001b[0m\u001b[1;33m)\u001b[0m\u001b[1;33m\u001b[0m\u001b[1;33m\u001b[0m\u001b[0m\n\u001b[1;32m----> 2\u001b[1;33m \u001b[1;32mfrom\u001b[0m \u001b[0myellowbrick\u001b[0m\u001b[1;33m.\u001b[0m\u001b[0mcluster\u001b[0m \u001b[1;32mimport\u001b[0m \u001b[0mKElbowVisualizer\u001b[0m\u001b[1;33m\u001b[0m\u001b[1;33m\u001b[0m\u001b[0m\n\u001b[0m\u001b[0;32m      3\u001b[0m \u001b[1;33m\u001b[0m\u001b[0m\n\u001b[0;32m      4\u001b[0m \u001b[0mmodel\u001b[0m \u001b[1;33m=\u001b[0m \u001b[0mKMeans\u001b[0m\u001b[1;33m(\u001b[0m\u001b[1;33m)\u001b[0m\u001b[1;33m\u001b[0m\u001b[1;33m\u001b[0m\u001b[0m\n\u001b[0;32m      5\u001b[0m \u001b[0mvisualizer\u001b[0m \u001b[1;33m=\u001b[0m \u001b[0mKElbowVisualizer\u001b[0m\u001b[1;33m(\u001b[0m\u001b[0mmodel\u001b[0m\u001b[1;33m,\u001b[0m \u001b[0mk\u001b[0m\u001b[1;33m=\u001b[0m\u001b[1;33m(\u001b[0m\u001b[1;36m1\u001b[0m\u001b[1;33m,\u001b[0m\u001b[1;36m5\u001b[0m\u001b[1;33m)\u001b[0m\u001b[1;33m)\u001b[0m\u001b[1;33m\u001b[0m\u001b[1;33m\u001b[0m\u001b[0m\n",
      "\u001b[1;31mModuleNotFoundError\u001b[0m: No module named 'yellowbrick'"
     ]
    }
   ],
   "source": [
    "# !pip install yellowbrick\n",
    "from yellowbrick.cluster import KElbowVisualizer\n",
    "\n",
    "model = KMeans()\n",
    "visualizer = KElbowVisualizer(model, k=(1,5))\n",
    "visualizer.fit(df_scaled[['수소차대수', '총교통량', '인구밀도', '주유소lpg 접근성', '상업수']])"
   ]
  },
  {
   "cell_type": "code",
   "execution_count": 76,
   "metadata": {},
   "outputs": [],
   "source": [
    "# right_df['인구밀도'] = right_df['인구밀도'].str.replace(',', '').astype(float)\n",
    "df['인구밀도'] = df['인구밀도'].str.replace(',', '').astype(float)\n",
    "# right_df.dtypes"
   ]
  }
 ],
 "metadata": {
  "kernelspec": {
   "display_name": "Python 3",
   "language": "python",
   "name": "python3"
  },
  "language_info": {
   "codemirror_mode": {
    "name": "ipython",
    "version": 3
   },
   "file_extension": ".py",
   "mimetype": "text/x-python",
   "name": "python",
   "nbconvert_exporter": "python",
   "pygments_lexer": "ipython3",
   "version": "3.7.6"
  }
 },
 "nbformat": 4,
 "nbformat_minor": 5
}
